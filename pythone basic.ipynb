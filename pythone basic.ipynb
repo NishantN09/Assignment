{
 "cells": [
  {
   "cell_type": "code",
   "execution_count": 1,
   "id": "fc9fd209-f311-485c-972a-32ce636d1013",
   "metadata": {},
   "outputs": [],
   "source": [
    "a=10"
   ]
  },
  {
   "cell_type": "code",
   "execution_count": 2,
   "id": "7585d885-1be6-4d5f-8be3-c778661ce21d",
   "metadata": {},
   "outputs": [
    {
     "data": {
      "text/plain": [
       "10"
      ]
     },
     "execution_count": 2,
     "metadata": {},
     "output_type": "execute_result"
    }
   ],
   "source": [
    "a  "
   ]
  },
  {
   "cell_type": "code",
   "execution_count": 4,
   "id": "73e6123d-ac95-4b20-8114-dc48a22f00a7",
   "metadata": {},
   "outputs": [
    {
     "data": {
      "text/plain": [
       "int"
      ]
     },
     "execution_count": 4,
     "metadata": {},
     "output_type": "execute_result"
    }
   ],
   "source": [
    "type(a)"
   ]
  },
  {
   "cell_type": "code",
   "execution_count": 5,
   "id": "cd23a5d8-9251-421f-a7f2-3c2dc6065afe",
   "metadata": {},
   "outputs": [],
   "source": [
    "a=\"this is python\""
   ]
  },
  {
   "cell_type": "code",
   "execution_count": 10,
   "id": "63d19377-f05f-4187-8c66-2fb9e455a77a",
   "metadata": {},
   "outputs": [
    {
     "data": {
      "text/plain": [
       "'this is python'"
      ]
     },
     "execution_count": 10,
     "metadata": {},
     "output_type": "execute_result"
    }
   ],
   "source": [
    "a[0::]"
   ]
  },
  {
   "cell_type": "code",
   "execution_count": 13,
   "id": "2afe57de-f138-4985-909b-1317cf938d1b",
   "metadata": {},
   "outputs": [
    {
     "data": {
      "text/plain": [
       "'ti sp'"
      ]
     },
     "execution_count": 13,
     "metadata": {},
     "output_type": "execute_result"
    }
   ],
   "source": [
    "a[:9:2]"
   ]
  },
  {
   "cell_type": "code",
   "execution_count": 14,
   "id": "45444bc4-6eab-4909-b53c-c38c9ca6d47c",
   "metadata": {},
   "outputs": [
    {
     "data": {
      "text/plain": [
       "'nohtyp si siht'"
      ]
     },
     "execution_count": 14,
     "metadata": {},
     "output_type": "execute_result"
    }
   ],
   "source": [
    "a[::-1]"
   ]
  },
  {
   "cell_type": "code",
   "execution_count": 16,
   "id": "3ecca35d-e6fd-4543-873d-8182745a07ba",
   "metadata": {},
   "outputs": [
    {
     "data": {
      "text/plain": [
       "'nohtyp si siht'"
      ]
     },
     "execution_count": 16,
     "metadata": {},
     "output_type": "execute_result"
    }
   ],
   "source": [
    "a[::-1]"
   ]
  },
  {
   "cell_type": "code",
   "execution_count": 17,
   "id": "e5b038ac-afcb-4d78-9c6d-c0051d40613b",
   "metadata": {},
   "outputs": [
    {
     "data": {
      "text/plain": [
       "'this is python'"
      ]
     },
     "execution_count": 17,
     "metadata": {},
     "output_type": "execute_result"
    }
   ],
   "source": [
    "a"
   ]
  },
  {
   "cell_type": "code",
   "execution_count": 18,
   "id": "014a0ea7-2af9-459c-bc82-eb9b8a53b03b",
   "metadata": {},
   "outputs": [
    {
     "data": {
      "text/plain": [
       "'nt  h'"
      ]
     },
     "execution_count": 18,
     "metadata": {},
     "output_type": "execute_result"
    }
   ],
   "source": [
    "a[-1:-14:-3]"
   ]
  },
  {
   "cell_type": "code",
   "execution_count": 30,
   "id": "3626f3a3-d2f9-4ec5-bfc4-8fe1918487aa",
   "metadata": {},
   "outputs": [
    {
     "data": {
      "text/plain": [
       "'yp si siht'"
      ]
     },
     "execution_count": 30,
     "metadata": {},
     "output_type": "execute_result"
    }
   ],
   "source": [
    "a[-5::-1]"
   ]
  },
  {
   "cell_type": "code",
   "execution_count": 32,
   "id": "ff306139-f4d0-4215-8691-d29cc499c056",
   "metadata": {},
   "outputs": [],
   "source": [
    "b=5+8j"
   ]
  },
  {
   "cell_type": "code",
   "execution_count": 34,
   "id": "6b0f47b4-70be-48da-bc7b-e2d7987c47ef",
   "metadata": {},
   "outputs": [
    {
     "data": {
      "text/plain": [
       "complex"
      ]
     },
     "execution_count": 34,
     "metadata": {},
     "output_type": "execute_result"
    }
   ],
   "source": [
    "type(b)"
   ]
  },
  {
   "cell_type": "code",
   "execution_count": 35,
   "id": "cebfd5aa-9208-43f5-aa4e-4495e873a436",
   "metadata": {},
   "outputs": [
    {
     "data": {
      "text/plain": [
       "5.0"
      ]
     },
     "execution_count": 35,
     "metadata": {},
     "output_type": "execute_result"
    }
   ],
   "source": [
    "b.real"
   ]
  },
  {
   "cell_type": "code",
   "execution_count": 36,
   "id": "59893563-7a16-49a9-abc1-861daa9247e2",
   "metadata": {},
   "outputs": [
    {
     "data": {
      "text/plain": [
       "8.0"
      ]
     },
     "execution_count": 36,
     "metadata": {},
     "output_type": "execute_result"
    }
   ],
   "source": [
    "b.imag"
   ]
  },
  {
   "cell_type": "code",
   "execution_count": 37,
   "id": "364c34a5-0a65-49e7-99e0-f130914f76b4",
   "metadata": {},
   "outputs": [
    {
     "data": {
      "text/plain": [
       "'this is python'"
      ]
     },
     "execution_count": 37,
     "metadata": {},
     "output_type": "execute_result"
    }
   ],
   "source": [
    "a"
   ]
  },
  {
   "cell_type": "code",
   "execution_count": 38,
   "id": "690bd2de-03c0-47ea-a94f-6c229dd4466d",
   "metadata": {},
   "outputs": [
    {
     "data": {
      "text/plain": [
       "'this is python'"
      ]
     },
     "execution_count": 38,
     "metadata": {},
     "output_type": "execute_result"
    }
   ],
   "source": [
    "a.lower()"
   ]
  },
  {
   "cell_type": "code",
   "execution_count": 39,
   "id": "3b584a0c-502f-4159-9839-d3bf5c208382",
   "metadata": {},
   "outputs": [
    {
     "data": {
      "text/plain": [
       "'THIS IS PYTHON'"
      ]
     },
     "execution_count": 39,
     "metadata": {},
     "output_type": "execute_result"
    }
   ],
   "source": [
    "a.upper()"
   ]
  },
  {
   "cell_type": "code",
   "execution_count": 40,
   "id": "9c6cc470-b045-4516-83fc-f89bcdee6741",
   "metadata": {},
   "outputs": [
    {
     "data": {
      "text/plain": [
       "'This Is Python'"
      ]
     },
     "execution_count": 40,
     "metadata": {},
     "output_type": "execute_result"
    }
   ],
   "source": [
    "a.title()"
   ]
  },
  {
   "cell_type": "code",
   "execution_count": 41,
   "id": "8d711b6e-cb30-43c7-9030-55f676ccd346",
   "metadata": {},
   "outputs": [
    {
     "data": {
      "text/plain": [
       "'This is python'"
      ]
     },
     "execution_count": 41,
     "metadata": {},
     "output_type": "execute_result"
    }
   ],
   "source": [
    "a.capitalize()"
   ]
  },
  {
   "cell_type": "code",
   "execution_count": 43,
   "id": "5e9e9853-f739-453b-b9a5-95244f32fb33",
   "metadata": {},
   "outputs": [
    {
     "data": {
      "text/plain": [
       "14"
      ]
     },
     "execution_count": 43,
     "metadata": {},
     "output_type": "execute_result"
    }
   ],
   "source": [
    "len(a)"
   ]
  },
  {
   "cell_type": "code",
   "execution_count": 45,
   "id": "66f053d8-5b16-4894-a23f-5012895638cd",
   "metadata": {},
   "outputs": [
    {
     "data": {
      "text/plain": [
       "2"
      ]
     },
     "execution_count": 45,
     "metadata": {},
     "output_type": "execute_result"
    }
   ],
   "source": [
    "a.find('is')"
   ]
  },
  {
   "cell_type": "code",
   "execution_count": 47,
   "id": "54368cd9-4e9f-4a70-8c56-5816c7b91e6b",
   "metadata": {},
   "outputs": [
    {
     "data": {
      "text/plain": [
       "2"
      ]
     },
     "execution_count": 47,
     "metadata": {},
     "output_type": "execute_result"
    }
   ],
   "source": [
    "a.count(\"is\")"
   ]
  },
  {
   "cell_type": "code",
   "execution_count": 1,
   "id": "ec7153bf-8292-4111-aa10-d602acb1a9a8",
   "metadata": {},
   "outputs": [],
   "source": [
    "x=\"shivani rawat\""
   ]
  },
  {
   "cell_type": "code",
   "execution_count": 2,
   "id": "202d34d9-55a5-4929-8b6e-8d5feeaac783",
   "metadata": {},
   "outputs": [
    {
     "data": {
      "text/plain": [
       "'shivani rawat'"
      ]
     },
     "execution_count": 2,
     "metadata": {},
     "output_type": "execute_result"
    }
   ],
   "source": [
    "x"
   ]
  },
  {
   "cell_type": "code",
   "execution_count": 3,
   "id": "2fe6422d-c7ba-4dd2-b192-670c0048d6d1",
   "metadata": {},
   "outputs": [],
   "source": [
    "x=\"pwskills\""
   ]
  },
  {
   "cell_type": "code",
   "execution_count": 4,
   "id": "f6f17139-9eea-4242-853b-9422f2c3f2cc",
   "metadata": {},
   "outputs": [
    {
     "data": {
      "text/plain": [
       "'pwskills'"
      ]
     },
     "execution_count": 4,
     "metadata": {},
     "output_type": "execute_result"
    }
   ],
   "source": [
    "x"
   ]
  },
  {
   "cell_type": "code",
   "execution_count": 5,
   "id": "e677e6b3-a57a-4356-917f-a550513275ae",
   "metadata": {},
   "outputs": [
    {
     "data": {
      "text/plain": [
       "'p'"
      ]
     },
     "execution_count": 5,
     "metadata": {},
     "output_type": "execute_result"
    }
   ],
   "source": [
    "x[0]"
   ]
  },
  {
   "cell_type": "code",
   "execution_count": 6,
   "id": "64d50029-5197-4a0e-a4b9-7c7e9f45e273",
   "metadata": {},
   "outputs": [
    {
     "data": {
      "text/plain": [
       "'pw'"
      ]
     },
     "execution_count": 6,
     "metadata": {},
     "output_type": "execute_result"
    }
   ],
   "source": [
    "x[0:2]"
   ]
  },
  {
   "cell_type": "code",
   "execution_count": 7,
   "id": "03b05dfe-784c-42df-b67c-ce54970309fc",
   "metadata": {},
   "outputs": [
    {
     "data": {
      "text/plain": [
       "'pwsk'"
      ]
     },
     "execution_count": 7,
     "metadata": {},
     "output_type": "execute_result"
    }
   ],
   "source": [
    "x[0:4]"
   ]
  },
  {
   "cell_type": "code",
   "execution_count": 8,
   "id": "837d36d8-fce0-4e64-bb2d-76dd4ad92e6a",
   "metadata": {},
   "outputs": [
    {
     "data": {
      "text/plain": [
       "'pwskills'"
      ]
     },
     "execution_count": 8,
     "metadata": {},
     "output_type": "execute_result"
    }
   ],
   "source": [
    "x[0:8]"
   ]
  },
  {
   "cell_type": "code",
   "execution_count": 9,
   "id": "6eadae91-229a-431e-9cad-d371aef5885f",
   "metadata": {},
   "outputs": [
    {
     "data": {
      "text/plain": [
       "'pwskills'"
      ]
     },
     "execution_count": 9,
     "metadata": {},
     "output_type": "execute_result"
    }
   ],
   "source": [
    "x[::1]"
   ]
  },
  {
   "cell_type": "code",
   "execution_count": 10,
   "id": "65722026-f3e6-432a-a60f-a9344ea769be",
   "metadata": {},
   "outputs": [
    {
     "data": {
      "text/plain": [
       "'pkl'"
      ]
     },
     "execution_count": 10,
     "metadata": {},
     "output_type": "execute_result"
    }
   ],
   "source": [
    "x[0::3]"
   ]
  },
  {
   "cell_type": "code",
   "execution_count": 11,
   "id": "45e9fc17-7dc2-465d-9602-7995d8ec571d",
   "metadata": {},
   "outputs": [
    {
     "data": {
      "text/plain": [
       "'pi'"
      ]
     },
     "execution_count": 11,
     "metadata": {},
     "output_type": "execute_result"
    }
   ],
   "source": [
    "x[::4]"
   ]
  },
  {
   "cell_type": "code",
   "execution_count": 13,
   "id": "6a347681-2322-484a-b542-7184c18abf84",
   "metadata": {},
   "outputs": [
    {
     "data": {
      "text/plain": [
       "'pwskills'"
      ]
     },
     "execution_count": 13,
     "metadata": {},
     "output_type": "execute_result"
    }
   ],
   "source": [
    "x[0::1]"
   ]
  },
  {
   "cell_type": "code",
   "execution_count": 14,
   "id": "d28d393c-3c82-4bb2-ab82-b3bc7ece2cec",
   "metadata": {},
   "outputs": [
    {
     "data": {
      "text/plain": [
       "'pwskills'"
      ]
     },
     "execution_count": 14,
     "metadata": {},
     "output_type": "execute_result"
    }
   ],
   "source": [
    "x[0:90]"
   ]
  },
  {
   "cell_type": "code",
   "execution_count": 17,
   "id": "4b6ff75c-6097-4cdc-b20a-17692f78e778",
   "metadata": {},
   "outputs": [
    {
     "data": {
      "text/plain": [
       "'slli'"
      ]
     },
     "execution_count": 17,
     "metadata": {},
     "output_type": "execute_result"
    }
   ],
   "source": [
    "x[-1:-5:-1]"
   ]
  },
  {
   "cell_type": "code",
   "execution_count": 3,
   "id": "869caf46-d435-4fd6-850a-36193bc3ae83",
   "metadata": {},
   "outputs": [],
   "source": [
    "a=\"stickkilles\""
   ]
  },
  {
   "cell_type": "code",
   "execution_count": 4,
   "id": "7efa05f6-e4b1-4ed0-bb7c-3966a4392992",
   "metadata": {},
   "outputs": [
    {
     "data": {
      "text/plain": [
       "'stickkilles'"
      ]
     },
     "execution_count": 4,
     "metadata": {},
     "output_type": "execute_result"
    }
   ],
   "source": [
    "a"
   ]
  },
  {
   "cell_type": "code",
   "execution_count": 5,
   "id": "148b4281-6736-4dec-bca6-d398c3d939ed",
   "metadata": {},
   "outputs": [
    {
     "data": {
      "text/plain": [
       "11"
      ]
     },
     "execution_count": 5,
     "metadata": {},
     "output_type": "execute_result"
    }
   ],
   "source": [
    "len(a)"
   ]
  },
  {
   "cell_type": "code",
   "execution_count": 4,
   "id": "ec87a8ad-bc27-47ac-9506-f9a783192219",
   "metadata": {},
   "outputs": [
    {
     "ename": "NameError",
     "evalue": "name 'a' is not defined",
     "output_type": "error",
     "traceback": [
      "\u001b[0;31m---------------------------------------------------------------------------\u001b[0m",
      "\u001b[0;31mNameError\u001b[0m                                 Traceback (most recent call last)",
      "Cell \u001b[0;32mIn[4], line 1\u001b[0m\n\u001b[0;32m----> 1\u001b[0m \u001b[43ma\u001b[49m[::\u001b[38;5;241m-\u001b[39m\u001b[38;5;241m1\u001b[39m]\u001b[38;5;66;03m#step\u001b[39;00m\n",
      "\u001b[0;31mNameError\u001b[0m: name 'a' is not defined"
     ]
    }
   ],
   "source": [
    "a[::-1]#step"
   ]
  },
  {
   "cell_type": "code",
   "execution_count": 6,
   "id": "451a6985-21af-47ef-8fc6-976b8319c64f",
   "metadata": {},
   "outputs": [
    {
     "data": {
      "text/plain": [
       "'my name nishan\\nkgherigt\\nehgetih\\ndkjtrg\\naerhgg'"
      ]
     },
     "execution_count": 6,
     "metadata": {},
     "output_type": "execute_result"
    }
   ],
   "source": [
    "'''my name nishan\n",
    "kgherigt\n",
    "ehgetih\n",
    "dkjtrg\n",
    "aerhgg'''"
   ]
  },
  {
   "cell_type": "code",
   "execution_count": 7,
   "id": "190554b2-0f53-4995-a92b-2ba1e9c5b651",
   "metadata": {},
   "outputs": [],
   "source": [
    "a=\"This is my first program\""
   ]
  },
  {
   "cell_type": "code",
   "execution_count": 8,
   "id": "c3574abc-4c00-4094-a614-bb013a34b166",
   "metadata": {},
   "outputs": [
    {
     "data": {
      "text/plain": [
       "'This is my first program'"
      ]
     },
     "execution_count": 8,
     "metadata": {},
     "output_type": "execute_result"
    }
   ],
   "source": [
    "a"
   ]
  },
  {
   "cell_type": "code",
   "execution_count": 9,
   "id": "6135c2c9-9584-4c5a-8b51-5a8e2bdb7085",
   "metadata": {},
   "outputs": [
    {
     "data": {
      "text/plain": [
       "24"
      ]
     },
     "execution_count": 9,
     "metadata": {},
     "output_type": "execute_result"
    }
   ],
   "source": [
    "len(a)"
   ]
  },
  {
   "cell_type": "code",
   "execution_count": 10,
   "id": "fba7a067-760f-461a-89aa-6c32495dcb6d",
   "metadata": {},
   "outputs": [
    {
     "data": {
      "text/plain": [
       "'this is my first program'"
      ]
     },
     "execution_count": 10,
     "metadata": {},
     "output_type": "execute_result"
    }
   ],
   "source": [
    "a.lower()"
   ]
  },
  {
   "cell_type": "code",
   "execution_count": 11,
   "id": "499f1ab5-9005-425e-8f9b-6dde3ca6e6be",
   "metadata": {},
   "outputs": [
    {
     "data": {
      "text/plain": [
       "'THIS IS MY FIRST PROGRAM'"
      ]
     },
     "execution_count": 11,
     "metadata": {},
     "output_type": "execute_result"
    }
   ],
   "source": [
    "a.upper()"
   ]
  },
  {
   "cell_type": "code",
   "execution_count": 12,
   "id": "367e2a07-70e4-4f7c-b821-076467e0bd89",
   "metadata": {},
   "outputs": [
    {
     "data": {
      "text/plain": [
       "8"
      ]
     },
     "execution_count": 12,
     "metadata": {},
     "output_type": "execute_result"
    }
   ],
   "source": [
    "a.find(\"my\")"
   ]
  },
  {
   "cell_type": "code",
   "execution_count": 16,
   "id": "7c38241b-e3dd-4f47-a199-7ff73c650f9c",
   "metadata": {},
   "outputs": [
    {
     "data": {
      "text/plain": [
       "3"
      ]
     },
     "execution_count": 16,
     "metadata": {},
     "output_type": "execute_result"
    }
   ],
   "source": [
    "a.count(\"i\")"
   ]
  },
  {
   "cell_type": "code",
   "execution_count": 17,
   "id": "db3138c8-93b2-4c4f-8e89-c6cf90eea695",
   "metadata": {},
   "outputs": [
    {
     "data": {
      "text/plain": [
       "'This Is My First Program'"
      ]
     },
     "execution_count": 17,
     "metadata": {},
     "output_type": "execute_result"
    }
   ],
   "source": [
    "a.title()"
   ]
  },
  {
   "cell_type": "code",
   "execution_count": 19,
   "id": "3ec95742-2052-4a34-ab16-ea721247e19c",
   "metadata": {},
   "outputs": [
    {
     "data": {
      "text/plain": [
       "'This is my first program'"
      ]
     },
     "execution_count": 19,
     "metadata": {},
     "output_type": "execute_result"
    }
   ],
   "source": [
    "a.capitalize()"
   ]
  },
  {
   "cell_type": "code",
   "execution_count": 23,
   "id": "739ab11e-269c-498d-9740-9f43aa0df664",
   "metadata": {},
   "outputs": [],
   "source": [
    "a1=\"shivani\""
   ]
  },
  {
   "cell_type": "code",
   "execution_count": 21,
   "id": "cf043f75-fcaf-44be-a41d-205ff45b2dca",
   "metadata": {},
   "outputs": [],
   "source": [
    "a3=\"Rawat\""
   ]
  },
  {
   "cell_type": "code",
   "execution_count": 28,
   "id": "8d2a4177-7e66-4e7d-a672-cbd09e38e37d",
   "metadata": {},
   "outputs": [
    {
     "data": {
      "text/plain": [
       "'shivani'"
      ]
     },
     "execution_count": 28,
     "metadata": {},
     "output_type": "execute_result"
    }
   ],
   "source": [
    "a1"
   ]
  },
  {
   "cell_type": "code",
   "execution_count": 29,
   "id": "89f908ac-70d5-4e5f-91cd-3b5b50149e68",
   "metadata": {},
   "outputs": [
    {
     "data": {
      "text/plain": [
       "'Rawat'"
      ]
     },
     "execution_count": 29,
     "metadata": {},
     "output_type": "execute_result"
    }
   ],
   "source": [
    "a2"
   ]
  },
  {
   "cell_type": "code",
   "execution_count": 30,
   "id": "ab7fd213-aad8-4e51-b643-b7f93a7c8afd",
   "metadata": {},
   "outputs": [],
   "source": [
    "b=\"shivani\""
   ]
  },
  {
   "cell_type": "code",
   "execution_count": 31,
   "id": "f549fff6-d57f-44c8-82f6-c67ad01d0d9f",
   "metadata": {},
   "outputs": [],
   "source": [
    "b1=\" \""
   ]
  },
  {
   "cell_type": "code",
   "execution_count": 32,
   "id": "4e0866b9-8b98-461c-aaf7-7b6e12e2367c",
   "metadata": {},
   "outputs": [],
   "source": [
    "b2=\"rawat\""
   ]
  },
  {
   "cell_type": "code",
   "execution_count": 35,
   "id": "8b49cfa0-21d5-4cb6-bad4-426afcdb0476",
   "metadata": {},
   "outputs": [],
   "source": [
    "q=b+b1+b2"
   ]
  },
  {
   "cell_type": "code",
   "execution_count": 36,
   "id": "92d7cfff-acc8-4afa-b615-befbaeb7b217",
   "metadata": {},
   "outputs": [
    {
     "data": {
      "text/plain": [
       "'SHIVANI RAWAT'"
      ]
     },
     "execution_count": 36,
     "metadata": {},
     "output_type": "execute_result"
    }
   ],
   "source": [
    "q.upper()"
   ]
  },
  {
   "cell_type": "code",
   "execution_count": 37,
   "id": "261172b0-0bc9-4b2e-8683-8ac1c49b1187",
   "metadata": {},
   "outputs": [
    {
     "data": {
      "text/plain": [
       "'Shivani Rawat'"
      ]
     },
     "execution_count": 37,
     "metadata": {},
     "output_type": "execute_result"
    }
   ],
   "source": [
    "q.title()"
   ]
  },
  {
   "cell_type": "code",
   "execution_count": 50,
   "id": "c8ff6c63-ba20-486a-9c86-42dab7333a17",
   "metadata": {},
   "outputs": [],
   "source": [
    "n=\"Nishant\""
   ]
  },
  {
   "cell_type": "code",
   "execution_count": 51,
   "id": "9ca0e45d-b1b2-4378-8f05-ae014a09381f",
   "metadata": {},
   "outputs": [
    {
     "data": {
      "text/plain": [
       "'Nishant'"
      ]
     },
     "execution_count": 51,
     "metadata": {},
     "output_type": "execute_result"
    }
   ],
   "source": [
    "n"
   ]
  },
  {
   "cell_type": "code",
   "execution_count": 56,
   "id": "d9e31609-895a-4001-b6c4-88870cdfce2d",
   "metadata": {},
   "outputs": [
    {
     "data": {
      "text/plain": [
       "'tnahsiN'"
      ]
     },
     "execution_count": 56,
     "metadata": {},
     "output_type": "execute_result"
    }
   ],
   "source": [
    "n[-1:-8:-1]"
   ]
  },
  {
   "cell_type": "code",
   "execution_count": 58,
   "id": "73960f63-3563-438f-abdb-21ae7b781736",
   "metadata": {},
   "outputs": [
    {
     "data": {
      "text/plain": [
       "'tasN'"
      ]
     },
     "execution_count": 58,
     "metadata": {},
     "output_type": "execute_result"
    }
   ],
   "source": [
    "n[::-2]"
   ]
  },
  {
   "cell_type": "code",
   "execution_count": 62,
   "id": "61f3f6ba-e924-4038-a2dc-64094b487fee",
   "metadata": {},
   "outputs": [
    {
     "data": {
      "text/plain": [
       "7"
      ]
     },
     "execution_count": 62,
     "metadata": {},
     "output_type": "execute_result"
    }
   ],
   "source": [
    "len(n)"
   ]
  },
  {
   "cell_type": "code",
   "execution_count": 63,
   "id": "bbf31cf2-297f-4b59-99d6-08dc0ee8830d",
   "metadata": {},
   "outputs": [
    {
     "data": {
      "text/plain": [
       "7"
      ]
     },
     "execution_count": 63,
     "metadata": {},
     "output_type": "execute_result"
    }
   ],
   "source": [
    "len(n)"
   ]
  },
  {
   "cell_type": "code",
   "execution_count": 65,
   "id": "9f46057d-88db-46c7-8e35-e1968e821d0c",
   "metadata": {},
   "outputs": [
    {
     "data": {
      "text/plain": [
       "'NISHANT'"
      ]
     },
     "execution_count": 65,
     "metadata": {},
     "output_type": "execute_result"
    }
   ],
   "source": [
    "n.upper()"
   ]
  },
  {
   "cell_type": "code",
   "execution_count": 69,
   "id": "9d6171cd-e55c-4e63-adf7-3715e7465313",
   "metadata": {},
   "outputs": [
    {
     "data": {
      "text/plain": [
       "0"
      ]
     },
     "execution_count": 69,
     "metadata": {},
     "output_type": "execute_result"
    }
   ],
   "source": [
    "n.find('N')"
   ]
  },
  {
   "cell_type": "code",
   "execution_count": 71,
   "id": "d5e15120-67b1-4e7c-acce-e0e7893f2c49",
   "metadata": {},
   "outputs": [
    {
     "data": {
      "text/plain": [
       "1"
      ]
     },
     "execution_count": 71,
     "metadata": {},
     "output_type": "execute_result"
    }
   ],
   "source": [
    "n.count('n')"
   ]
  },
  {
   "cell_type": "code",
   "execution_count": 72,
   "id": "f50195ab-f7bb-4022-bd37-8f6577e24949",
   "metadata": {},
   "outputs": [
    {
     "data": {
      "text/plain": [
       "'Nishant'"
      ]
     },
     "execution_count": 72,
     "metadata": {},
     "output_type": "execute_result"
    }
   ],
   "source": [
    "n"
   ]
  },
  {
   "cell_type": "code",
   "execution_count": 77,
   "id": "c45227de-05bd-4ccd-b188-b4f6af0ad03c",
   "metadata": {},
   "outputs": [
    {
     "data": {
      "text/plain": [
       "'Nishant'"
      ]
     },
     "execution_count": 77,
     "metadata": {},
     "output_type": "execute_result"
    }
   ],
   "source": [
    "n.capitalize()"
   ]
  },
  {
   "cell_type": "code",
   "execution_count": 74,
   "id": "a764ce7f-036f-46a0-ba15-10aedae0ff37",
   "metadata": {},
   "outputs": [
    {
     "data": {
      "text/plain": [
       "'Nishant'"
      ]
     },
     "execution_count": 74,
     "metadata": {},
     "output_type": "execute_result"
    }
   ],
   "source": [
    "n.title()"
   ]
  },
  {
   "cell_type": "code",
   "execution_count": null,
   "id": "9857d741-e112-4cb4-bdae-1547ef2029d1",
   "metadata": {},
   "outputs": [],
   "source": []
  }
 ],
 "metadata": {
  "kernelspec": {
   "display_name": "Python 3 (ipykernel)",
   "language": "python",
   "name": "python3"
  },
  "language_info": {
   "codemirror_mode": {
    "name": "ipython",
    "version": 3
   },
   "file_extension": ".py",
   "mimetype": "text/x-python",
   "name": "python",
   "nbconvert_exporter": "python",
   "pygments_lexer": "ipython3",
   "version": "3.10.8"
  }
 },
 "nbformat": 4,
 "nbformat_minor": 5
}
