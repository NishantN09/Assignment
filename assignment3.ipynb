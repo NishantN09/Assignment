{
 "cells": [
  {
   "cell_type": "code",
   "execution_count": 3,
   "id": "16b299f6-b803-4709-ba33-83b0678b50f9",
   "metadata": {},
   "outputs": [
    {
     "name": "stdout",
     "output_type": "stream",
     "text": [
      "55\n",
      "3628800\n"
     ]
    }
   ],
   "source": [
    "##Q2\n",
    "sum=0\n",
    "product=1\n",
    "i=1\n",
    "while i<=10:\n",
    "    sum=sum+i\n",
    "    product=product*i\n",
    "    i=i+1\n",
    "print(sum)\n",
    "print(product)"
   ]
  },
  {
   "cell_type": "code",
   "execution_count": null,
   "id": "43f5e0f4-5e2a-4152-8968-47e251719cf7",
   "metadata": {},
   "outputs": [],
   "source": [
    "##Q3\n",
    "unit=int(input(\"Enter the units\"))\n",
    "if unit<=100:\n",
    "    pay=unit*4.5\n",
    "    print(pay, \"pay\")\n",
    "elif unit<=200:\n",
    "    pay=(200-unit)*6 + (100*4.5)\n",
    "    print(pay, \"pay\")\n",
    "elif unit<=300:\n",
    "    pay=(300-unit)*10 + (200-100)*6 + (100*4.5)\n",
    "    print(pay, \"pay\")\n",
    "else:\n",
    "    pay=(unit-300)*20 +(300-200)*10 + (200-100)*6 + (100*4.5)\n",
    "    print(pay, \"pay\")"
   ]
  },
  {
   "cell_type": "code",
   "execution_count": 8,
   "id": "bcb592ed-4b40-4601-93c1-8667012110fa",
   "metadata": {},
   "outputs": [
    {
     "name": "stdout",
     "output_type": "stream",
     "text": [
      "[8, 64, 125, 216, 512, 1000, 1728, 2744, 3375, 4096, 5832, 8000, 10648, 13824, 15625, 17576, 21952, 27000, 32768, 39304, 42875, 46656, 54872, 64000, 74088, 85184, 91125, 97336, 110592, 125000, 140608, 157464, 166375, 175616, 195112, 216000, 238328, 262144, 274625, 287496, 314432, 343000, 373248, 405224, 421875, 438976, 474552, 512000, 551368, 592704, 614125, 636056, 681472, 729000, 778688, 830584, 857375, 884736, 941192, 1000000]\n"
     ]
    }
   ],
   "source": [
    "##Q4\n",
    "new_list=[]\n",
    "for i in range(1,101):\n",
    "    x=(i**3)\n",
    "    if x % 4 == 0 or x % 5 == 0:\n",
    "        new_list.append(x)\n",
    "print(new_list)      \n",
    "        \n",
    "        \n"
   ]
  },
  {
   "cell_type": "code",
   "execution_count": 12,
   "id": "b67cf97c-8882-4b4f-858e-ece594ef0c23",
   "metadata": {},
   "outputs": [
    {
     "name": "stdout",
     "output_type": "stream",
     "text": [
      "[8, 64, 125, 216, 512, 1000, 1728, 2744, 3375, 4096, 5832, 8000, 10648, 13824, 15625, 17576, 21952, 27000, 32768, 39304, 42875, 46656, 54872, 64000, 74088, 85184, 91125, 97336, 110592, 125000, 140608, 157464, 166375, 175616, 195112, 216000, 238328, 262144, 274625, 287496, 314432, 343000, 373248, 405224, 421875, 438976, 474552, 512000, 551368, 592704, 614125, 636056, 681472, 729000, 778688, 830584, 857375, 884736, 941192, 1000000]\n"
     ]
    }
   ],
   "source": [
    "new_list1 = []\n",
    "num=1\n",
    "while num <=100:\n",
    "    a = num**3\n",
    "    if a%4==0 or a%5==0:\n",
    "        new_list1.append(a)\n",
    "    num=num+1\n",
    "print(new_list1)   "
   ]
  },
  {
   "cell_type": "code",
   "execution_count": 26,
   "id": "b95ba80a-3ddc-4a48-ace7-cf9155187cb3",
   "metadata": {},
   "outputs": [
    {
     "name": "stdout",
     "output_type": "stream",
     "text": [
      "12\n"
     ]
    }
   ],
   "source": [
    "srt=\"I want to become a data scientist\"\n",
    "srt=srt.lower()\n",
    "count=0\n",
    "for i in srt:\n",
    "    if i==\"a\" or i==\"e\" or i==\"i\" or i==\"o\" or i==\"u\":\n",
    "        count=count+1\n",
    "print(count)\n"
   ]
  },
  {
   "cell_type": "code",
   "execution_count": null,
   "id": "a704604c-6b7f-4973-a310-2f104afb7209",
   "metadata": {},
   "outputs": [],
   "source": []
  },
  {
   "cell_type": "code",
   "execution_count": null,
   "id": "4be96857-b9eb-46ff-870d-bc616e46b20c",
   "metadata": {},
   "outputs": [],
   "source": []
  }
 ],
 "metadata": {
  "kernelspec": {
   "display_name": "Python 3 (ipykernel)",
   "language": "python",
   "name": "python3"
  },
  "language_info": {
   "codemirror_mode": {
    "name": "ipython",
    "version": 3
   },
   "file_extension": ".py",
   "mimetype": "text/x-python",
   "name": "python",
   "nbconvert_exporter": "python",
   "pygments_lexer": "ipython3",
   "version": "3.10.8"
  }
 },
 "nbformat": 4,
 "nbformat_minor": 5
}
