{
 "cells": [
  {
   "cell_type": "code",
   "execution_count": 4,
   "id": "cc334ef1-bad0-4d13-a1c4-47ff04764c9d",
   "metadata": {},
   "outputs": [
    {
     "name": "stdin",
     "output_type": "stream",
     "text": [
      "Enter the percantage   99\n"
     ]
    },
    {
     "name": "stdout",
     "output_type": "stream",
     "text": [
      "Grade A \n"
     ]
    }
   ],
   "source": [
    "#Question 1\n",
    "\n",
    "pr=int(input(\"Enter the percantage  \"))\n",
    "if pr>90:\n",
    "    print(\"Grade A \")\n",
    "elif pr>80 and pr<=90:\n",
    "    print(\"Grade B \")\n",
    "elif pr>=60 and pr<=80:\n",
    "    print(\"Grade C \")\n",
    "else:\n",
    "    print(\"Grade D \")\n",
    "    "
   ]
  },
  {
   "cell_type": "code",
   "execution_count": 17,
   "id": "1140bbe5-ef54-4162-87b4-0de56c319489",
   "metadata": {},
   "outputs": [
    {
     "name": "stdin",
     "output_type": "stream",
     "text": [
      "Enter the cost price of a bick 120000\n"
     ]
    },
    {
     "name": "stdout",
     "output_type": "stream",
     "text": [
      "The road tex  to be  18000 rs\n"
     ]
    }
   ],
   "source": [
    "#Question 2\n",
    "\n",
    "cost=int(input(\"Enter the cost price of a bick\"))\n",
    "if cost>100000:\n",
    "    print(\"The road tex  to be \",int(cost*15/100),\"rs\")\n",
    "elif cost>50000 and cost<=100000:\n",
    "    print(\"The road tex to be \",int(cost*10/100),\"rs\")\n",
    "else:\n",
    "    print(\"The road tex to be \",int(cost*5/100),\"rs\")\n",
    "    "
   ]
  },
  {
   "cell_type": "code",
   "execution_count": 26,
   "id": "e88e6ebc-10fd-4d90-be16-f3520a437674",
   "metadata": {},
   "outputs": [
    {
     "name": "stdin",
     "output_type": "stream",
     "text": [
      "Enter the any city Delhi\n"
     ]
    },
    {
     "name": "stdout",
     "output_type": "stream",
     "text": [
      "Monument is Red Ford \n"
     ]
    }
   ],
   "source": [
    "a=input(\"Enter the any city\")\n",
    "if a==\"Delhi\":\n",
    "    print(\"Monument is Red Ford \")\n",
    "elif a==\"Agra\":\n",
    "    print(\"Monument is Taj Mahal \")\n",
    "elif a==\"Jaipur\":\n",
    "    print(\"Monument is Jai Mahal\")\n",
    "else:\n",
    "    print( a, \"No Accepted\")\n"
   ]
  },
  {
   "cell_type": "code",
   "execution_count": null,
   "id": "7f58c6dd-ff32-420b-a85a-609de7911a0d",
   "metadata": {},
   "outputs": [],
   "source": []
  }
 ],
 "metadata": {
  "kernelspec": {
   "display_name": "Python 3 (ipykernel)",
   "language": "python",
   "name": "python3"
  },
  "language_info": {
   "codemirror_mode": {
    "name": "ipython",
    "version": 3
   },
   "file_extension": ".py",
   "mimetype": "text/x-python",
   "name": "python",
   "nbconvert_exporter": "python",
   "pygments_lexer": "ipython3",
   "version": "3.10.8"
  }
 },
 "nbformat": 4,
 "nbformat_minor": 5
}
